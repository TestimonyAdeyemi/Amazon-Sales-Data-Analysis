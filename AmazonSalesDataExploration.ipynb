{
  "nbformat": 4,
  "nbformat_minor": 0,
  "metadata": {
    "colab": {
      "provenance": [],
      "authorship_tag": "ABX9TyMRX9hWBzvaYkfXmwdTQ9ai",
      "include_colab_link": true
    },
    "kernelspec": {
      "name": "python3",
      "display_name": "Python 3"
    },
    "language_info": {
      "name": "python"
    }
  },
  "cells": [
    {
      "cell_type": "markdown",
      "metadata": {
        "id": "view-in-github",
        "colab_type": "text"
      },
      "source": [
        "<a href=\"https://colab.research.google.com/github/TestimonyAdeyemi/Amazon-Sales-Data-Analysis/blob/main/AmazonSalesDataExploration.ipynb\" target=\"_parent\"><img src=\"https://colab.research.google.com/assets/colab-badge.svg\" alt=\"Open In Colab\"/></a>"
      ]
    },
    {
      "cell_type": "code",
      "source": [
        "%load_ext sql\n",
        "%sql sqlite://\n",
        "\n",
        "import numpy as np\n",
        "import pandas as pd"
      ],
      "metadata": {
        "id": "HrrYDzQfSUqj"
      },
      "execution_count": 2,
      "outputs": []
    },
    {
      "cell_type": "code",
      "execution_count": 3,
      "metadata": {
        "colab": {
          "base_uri": "https://localhost:8080/",
          "height": 90
        },
        "id": "0HUONanUPlM_",
        "outputId": "37cd6f32-d219-4337-9861-392c1d80f6bb"
      },
      "outputs": [
        {
          "output_type": "stream",
          "name": "stdout",
          "text": [
            " * sqlite://\n",
            "Done.\n",
            " * sqlite://\n"
          ]
        },
        {
          "output_type": "execute_result",
          "data": {
            "text/plain": [
              "'Persisted sales'"
            ],
            "application/vnd.google.colaboratory.intrinsic+json": {
              "type": "string"
            }
          },
          "metadata": {},
          "execution_count": 3
        }
      ],
      "source": [
        "\n",
        "# Create database tables from CSV files\n",
        "\n",
        "with open('amazon.csv') as f: sales = pd.read_csv('amazon.csv', encoding='unicode_escape', index_col=0)\n",
        "%sql drop table if exists sales;\n",
        "%sql --persist sales\n"
      ]
    },
    {
      "cell_type": "code",
      "source": [
        "%%sql\n",
        "select * from sales limit 5"
      ],
      "metadata": {
        "id": "3TMy3GYuR20l"
      },
      "execution_count": null,
      "outputs": []
    },
    {
      "cell_type": "markdown",
      "source": [
        "Our daataset contains products, their prices, discount customer reviews and ratings. Here are questions this data can answer:\n",
        "1. What prodcut category has the highest rating?\n",
        "2. Average rating of products under 25% discount\n",
        "3. Average rating of products betwen 25-50% discount\n",
        "4. Average rating of products with 50-75% discount\n",
        "5. Average rating of products with 75-90% discount\n",
        "6. Top 10 products with the highest rating?\n"
      ],
      "metadata": {
        "id": "HlJahdR-S3Rh"
      }
    },
    {
      "cell_type": "code",
      "source": [
        "#what product category has the highest rating\n",
        "%%sql\n",
        "select avg(rating), category\n",
        "from sales\n",
        "group by category\n",
        "order by avg(rating) desc\n",
        "limit 10\n"
      ],
      "metadata": {
        "colab": {
          "base_uri": "https://localhost:8080/",
          "height": 285
        },
        "id": "huGMI1VjXvmD",
        "outputId": "fd43ec58-bf40-4031-e2cc-7c727cb2755d"
      },
      "execution_count": 5,
      "outputs": [
        {
          "output_type": "stream",
          "name": "stdout",
          "text": [
            " * sqlite://\n",
            "Done.\n"
          ]
        },
        {
          "output_type": "execute_result",
          "data": {
            "text/plain": [
              "[(4.6, 'Computers&Accessories|Tablets'),\n",
              " (4.5, 'OfficeProducts|OfficeElectronics|Calculators|Basic'),\n",
              " (4.5, 'HomeImprovement|Electrical|CordManagement'),\n",
              " (4.5, 'Home&Kitchen|Kitchen&HomeAppliances|SmallKitchenAppliances|SmallApplianceParts&Accessories'),\n",
              " (4.5, 'Home&Kitchen|Kitchen&HomeAppliances|Coffee,Tea&Espresso|CoffeePresses'),\n",
              " (4.5, 'Home&Kitchen|CraftMaterials|PaintingMaterials'),\n",
              " (4.5, 'Electronics|PowerAccessories|SurgeProtectors'),\n",
              " (4.5, 'Electronics|HomeAudio|MediaStreamingDevices|StreamingClients'),\n",
              " (4.5, 'Electronics|Cameras&Photography|Accessories|Film'),\n",
              " (4.5, 'Computers&Accessories|NetworkingDevices|NetworkAdapters|PowerLANAdapters')]"
            ],
            "text/html": [
              "<table>\n",
              "    <thead>\n",
              "        <tr>\n",
              "            <th>avg(rating)</th>\n",
              "            <th>category</th>\n",
              "        </tr>\n",
              "    </thead>\n",
              "    <tbody>\n",
              "        <tr>\n",
              "            <td>4.6</td>\n",
              "            <td>Computers&amp;Accessories|Tablets</td>\n",
              "        </tr>\n",
              "        <tr>\n",
              "            <td>4.5</td>\n",
              "            <td>OfficeProducts|OfficeElectronics|Calculators|Basic</td>\n",
              "        </tr>\n",
              "        <tr>\n",
              "            <td>4.5</td>\n",
              "            <td>HomeImprovement|Electrical|CordManagement</td>\n",
              "        </tr>\n",
              "        <tr>\n",
              "            <td>4.5</td>\n",
              "            <td>Home&amp;Kitchen|Kitchen&amp;HomeAppliances|SmallKitchenAppliances|SmallApplianceParts&amp;Accessories</td>\n",
              "        </tr>\n",
              "        <tr>\n",
              "            <td>4.5</td>\n",
              "            <td>Home&amp;Kitchen|Kitchen&amp;HomeAppliances|Coffee,Tea&amp;Espresso|CoffeePresses</td>\n",
              "        </tr>\n",
              "        <tr>\n",
              "            <td>4.5</td>\n",
              "            <td>Home&amp;Kitchen|CraftMaterials|PaintingMaterials</td>\n",
              "        </tr>\n",
              "        <tr>\n",
              "            <td>4.5</td>\n",
              "            <td>Electronics|PowerAccessories|SurgeProtectors</td>\n",
              "        </tr>\n",
              "        <tr>\n",
              "            <td>4.5</td>\n",
              "            <td>Electronics|HomeAudio|MediaStreamingDevices|StreamingClients</td>\n",
              "        </tr>\n",
              "        <tr>\n",
              "            <td>4.5</td>\n",
              "            <td>Electronics|Cameras&amp;Photography|Accessories|Film</td>\n",
              "        </tr>\n",
              "        <tr>\n",
              "            <td>4.5</td>\n",
              "            <td>Computers&amp;Accessories|NetworkingDevices|NetworkAdapters|PowerLANAdapters</td>\n",
              "        </tr>\n",
              "    </tbody>\n",
              "</table>"
            ]
          },
          "metadata": {},
          "execution_count": 5
        }
      ]
    },
    {
      "cell_type": "code",
      "source": [
        "#what product has the highest rating\n",
        "%%sql\n",
        "select rating, product_name\n",
        "from sales\n",
        "order by rating desc\n",
        "limit 10"
      ],
      "metadata": {
        "colab": {
          "base_uri": "https://localhost:8080/",
          "height": 303
        },
        "id": "4lK1keUzOJAZ",
        "outputId": "2a2f49d4-64c2-480a-f741-f24cf29137cf"
      },
      "execution_count": 28,
      "outputs": [
        {
          "output_type": "stream",
          "name": "stdout",
          "text": [
            " * sqlite://\n",
            "Done.\n"
          ]
        },
        {
          "output_type": "execute_result",
          "data": {
            "text/plain": [
              "[('|', 'Eureka Forbes car Vac 100 Watts Powerful Suction Vacuum Cleaner with Washable HEPA Filter, 3 Accessories,Compact,Light Weight & Easy to use (Black and Red)'),\n",
              " ('5.0', 'Syncwire LTG to USB Cable for Fast Charging Compatible with Phone 5/ 5C/ 5S/ 6/ 6S/ 7/8/ X/XR/XS Max/ 11/12/ 13 Series and Pad Air/Mini, Pod & Other Devices (1.1 Meter, White)'),\n",
              " ('5.0', 'REDTECH USB-C to Lightning Cable 3.3FT, [Apple MFi Certified] Lightning to Type C Fast Charging Cord Compatible with iPhone 14/13/13 pro/Max/12/11/X/XS/XR/8, Supports Power Delivery - White'),\n",
              " ('5.0', 'Amazon Basics Wireless Mouse | 2.4 GHz Connection, 1600 DPI | Type - C Adapter | Upto 12 Months of Battery Life | Ambidextrous Design | Suitable for PC/Mac/Laptop'),\n",
              " ('4.8', 'Swiffer Instant Electric Water Heater Faucet Tap Home-Kitchen Instantaneous Water Heater Tank less for Tap, LED Electric Head Water Heaters Tail Gallon Comfort(3000W) ((Pack of 1))'),\n",
              " ('4.8', 'Oratech Coffee Frother electric, milk frother electric, coffee beater, cappuccino maker, Coffee Foamer, Mocktail Mixer, Coffee Foam Maker, coffee whisker electric, Froth Maker, coffee stirrers electric, coffee frothers, Coffee Blender, (6 Month Warranty) (Multicolour)'),\n",
              " ('4.8', 'Instant Pot Air Fryer, Vortex 2QT, Touch Control Panel, 360Â° EvenCrispâ\\x84¢ Technology, Uses 95 % less Oil, 4-in-1 Appliance: Air Fry, Roast, Bake, Reheat (Vortex 1.97Litre, Black)'),\n",
              " ('4.7', 'Sony Bravia 164 cm (65 inches) 4K Ultra HD Smart LED Google TV KD-65X74K (Black)'),\n",
              " ('4.7', 'Spigen EZ Fit Tempered Glass Screen Protector for iPhone 14 Pro Max - 2 Pack (Sensor Protection)'),\n",
              " ('4.7', 'FIGMENT Handheld Milk Frother Rechargeable, 3-Speed Electric Frother for Coffee with 2 Whisks and Coffee Decoration Tool, Coffee Frother Mixer, CRESCENT ENTERPRISES VRW0.50BK (A1)')]"
            ],
            "text/html": [
              "<table>\n",
              "    <thead>\n",
              "        <tr>\n",
              "            <th>rating</th>\n",
              "            <th>product_name</th>\n",
              "        </tr>\n",
              "    </thead>\n",
              "    <tbody>\n",
              "        <tr>\n",
              "            <td>|</td>\n",
              "            <td>Eureka Forbes car Vac 100 Watts Powerful Suction Vacuum Cleaner with Washable HEPA Filter, 3 Accessories,Compact,Light Weight &amp; Easy to use (Black and Red)</td>\n",
              "        </tr>\n",
              "        <tr>\n",
              "            <td>5.0</td>\n",
              "            <td>Syncwire LTG to USB Cable for Fast Charging Compatible with Phone 5/ 5C/ 5S/ 6/ 6S/ 7/8/ X/XR/XS Max/ 11/12/ 13 Series and Pad Air/Mini, Pod &amp; Other Devices (1.1 Meter, White)</td>\n",
              "        </tr>\n",
              "        <tr>\n",
              "            <td>5.0</td>\n",
              "            <td>REDTECH USB-C to Lightning Cable 3.3FT, [Apple MFi Certified] Lightning to Type C Fast Charging Cord Compatible with iPhone 14/13/13 pro/Max/12/11/X/XS/XR/8, Supports Power Delivery - White</td>\n",
              "        </tr>\n",
              "        <tr>\n",
              "            <td>5.0</td>\n",
              "            <td>Amazon Basics Wireless Mouse | 2.4 GHz Connection, 1600 DPI | Type - C Adapter | Upto 12 Months of Battery Life | Ambidextrous Design | Suitable for PC/Mac/Laptop</td>\n",
              "        </tr>\n",
              "        <tr>\n",
              "            <td>4.8</td>\n",
              "            <td>Swiffer Instant Electric Water Heater Faucet Tap Home-Kitchen Instantaneous Water Heater Tank less for Tap, LED Electric Head Water Heaters Tail Gallon Comfort(3000W) ((Pack of 1))</td>\n",
              "        </tr>\n",
              "        <tr>\n",
              "            <td>4.8</td>\n",
              "            <td>Oratech Coffee Frother electric, milk frother electric, coffee beater, cappuccino maker, Coffee Foamer, Mocktail Mixer, Coffee Foam Maker, coffee whisker electric, Froth Maker, coffee stirrers electric, coffee frothers, Coffee Blender, (6 Month Warranty) (Multicolour)</td>\n",
              "        </tr>\n",
              "        <tr>\n",
              "            <td>4.8</td>\n",
              "            <td>Instant Pot Air Fryer, Vortex 2QT, Touch Control Panel, 360Â° EvenCrispâ¢ Technology, Uses 95 % less Oil, 4-in-1 Appliance: Air Fry, Roast, Bake, Reheat (Vortex 1.97Litre, Black)</td>\n",
              "        </tr>\n",
              "        <tr>\n",
              "            <td>4.7</td>\n",
              "            <td>Sony Bravia 164 cm (65 inches) 4K Ultra HD Smart LED Google TV KD-65X74K (Black)</td>\n",
              "        </tr>\n",
              "        <tr>\n",
              "            <td>4.7</td>\n",
              "            <td>Spigen EZ Fit Tempered Glass Screen Protector for iPhone 14 Pro Max - 2 Pack (Sensor Protection)</td>\n",
              "        </tr>\n",
              "        <tr>\n",
              "            <td>4.7</td>\n",
              "            <td>FIGMENT Handheld Milk Frother Rechargeable, 3-Speed Electric Frother for Coffee with 2 Whisks and Coffee Decoration Tool, Coffee Frother Mixer, CRESCENT ENTERPRISES VRW0.50BK (A1)</td>\n",
              "        </tr>\n",
              "    </tbody>\n",
              "</table>"
            ]
          },
          "metadata": {},
          "execution_count": 28
        }
      ]
    },
    {
      "cell_type": "code",
      "source": [
        "%%sql\n",
        "UPDATE sales\n",
        "SET discount_percentage = REPLACE(discount_percentage, '%', '')\n"
      ],
      "metadata": {
        "colab": {
          "base_uri": "https://localhost:8080/"
        },
        "id": "cjJWkuasf97y",
        "outputId": "2002cc7a-dd84-4dfc-e465-50adb4555c73"
      },
      "execution_count": 6,
      "outputs": [
        {
          "output_type": "stream",
          "name": "stdout",
          "text": [
            " * sqlite://\n",
            "1465 rows affected.\n"
          ]
        },
        {
          "output_type": "execute_result",
          "data": {
            "text/plain": [
              "[]"
            ]
          },
          "metadata": {},
          "execution_count": 6
        }
      ]
    },
    {
      "cell_type": "code",
      "source": [
        "#Average rating of products with no discount\n",
        "\n",
        "%%sql\n",
        "SELECT avg(rating), CAST(discount_percentage AS int) AS discount_integer\n",
        "FROM sales\n",
        "WHERE CAST(discount_percentage AS int) = 0\n",
        "\n",
        "\n",
        "\n"
      ],
      "metadata": {
        "colab": {
          "base_uri": "https://localhost:8080/",
          "height": 97
        },
        "id": "XYPKKYMMZf5V",
        "outputId": "201daf52-c69d-496d-eae2-c81e33fd4ba1"
      },
      "execution_count": 10,
      "outputs": [
        {
          "output_type": "stream",
          "name": "stdout",
          "text": [
            " * sqlite://\n",
            "Done.\n"
          ]
        },
        {
          "output_type": "execute_result",
          "data": {
            "text/plain": [
              "[(4.240816326530611, 0)]"
            ],
            "text/html": [
              "<table>\n",
              "    <thead>\n",
              "        <tr>\n",
              "            <th>avg(rating)</th>\n",
              "            <th>discount_integer</th>\n",
              "        </tr>\n",
              "    </thead>\n",
              "    <tbody>\n",
              "        <tr>\n",
              "            <td>4.240816326530611</td>\n",
              "            <td>0</td>\n",
              "        </tr>\n",
              "    </tbody>\n",
              "</table>"
            ]
          },
          "metadata": {},
          "execution_count": 10
        }
      ]
    },
    {
      "cell_type": "code",
      "source": [
        "#Average rating of products with 1-25% discount\n",
        "\n",
        "%%sql\n",
        "SELECT avg(rating), CAST(discount_percentage AS int) AS discount_integer\n",
        "FROM sales\n",
        "WHERE CAST(discount_percentage AS int) BETWEEN 1 AND 26;"
      ],
      "metadata": {
        "colab": {
          "base_uri": "https://localhost:8080/",
          "height": 97
        },
        "id": "N3u3q4nMaaX1",
        "outputId": "38af20ba-39a6-4423-8ca4-27a244bd72a5"
      },
      "execution_count": 24,
      "outputs": [
        {
          "output_type": "stream",
          "name": "stdout",
          "text": [
            " * sqlite://\n",
            "Done.\n"
          ]
        },
        {
          "output_type": "execute_result",
          "data": {
            "text/plain": [
              "[(4.136036036036035, 23)]"
            ],
            "text/html": [
              "<table>\n",
              "    <thead>\n",
              "        <tr>\n",
              "            <th>avg(rating)</th>\n",
              "            <th>discount_integer</th>\n",
              "        </tr>\n",
              "    </thead>\n",
              "    <tbody>\n",
              "        <tr>\n",
              "            <td>4.136036036036035</td>\n",
              "            <td>23</td>\n",
              "        </tr>\n",
              "    </tbody>\n",
              "</table>"
            ]
          },
          "metadata": {},
          "execution_count": 24
        }
      ]
    },
    {
      "cell_type": "code",
      "source": [
        "#Average rating of products with  discount\n",
        "\n",
        "%%sql\n",
        "SELECT avg(rating), CAST(discount_percentage AS int) AS discount_integer\n",
        "FROM sales\n",
        "WHERE CAST(discount_percentage AS int) BETWEEN 25 AND 51;"
      ],
      "metadata": {
        "colab": {
          "base_uri": "https://localhost:8080/",
          "height": 97
        },
        "id": "3yTTp_ljCJNE",
        "outputId": "ff779eea-55c9-4e53-d4a1-062d9a3cca13"
      },
      "execution_count": 25,
      "outputs": [
        {
          "output_type": "stream",
          "name": "stdout",
          "text": [
            " * sqlite://\n",
            "Done.\n"
          ]
        },
        {
          "output_type": "execute_result",
          "data": {
            "text/plain": [
              "[(4.105063291139237, 43)]"
            ],
            "text/html": [
              "<table>\n",
              "    <thead>\n",
              "        <tr>\n",
              "            <th>avg(rating)</th>\n",
              "            <th>discount_integer</th>\n",
              "        </tr>\n",
              "    </thead>\n",
              "    <tbody>\n",
              "        <tr>\n",
              "            <td>4.105063291139237</td>\n",
              "            <td>43</td>\n",
              "        </tr>\n",
              "    </tbody>\n",
              "</table>"
            ]
          },
          "metadata": {},
          "execution_count": 25
        }
      ]
    },
    {
      "cell_type": "code",
      "source": [
        "%%sql\n",
        "SELECT avg(rating), CAST(discount_percentage AS int) AS discount_integer\n",
        "FROM sales\n",
        "WHERE CAST(discount_percentage AS int) BETWEEN 50 AND 76;"
      ],
      "metadata": {
        "colab": {
          "base_uri": "https://localhost:8080/",
          "height": 97
        },
        "id": "5Dhs0siQCoCf",
        "outputId": "938945e3-79d9-4822-b18a-564e764f0981"
      },
      "execution_count": 13,
      "outputs": [
        {
          "output_type": "stream",
          "name": "stdout",
          "text": [
            " * sqlite://\n",
            "Done.\n"
          ]
        },
        {
          "output_type": "execute_result",
          "data": {
            "text/plain": [
              "[(4.082861896838594, 64)]"
            ],
            "text/html": [
              "<table>\n",
              "    <thead>\n",
              "        <tr>\n",
              "            <th>avg(rating)</th>\n",
              "            <th>discount_integer</th>\n",
              "        </tr>\n",
              "    </thead>\n",
              "    <tbody>\n",
              "        <tr>\n",
              "            <td>4.082861896838594</td>\n",
              "            <td>64</td>\n",
              "        </tr>\n",
              "    </tbody>\n",
              "</table>"
            ]
          },
          "metadata": {},
          "execution_count": 13
        }
      ]
    },
    {
      "cell_type": "code",
      "source": [
        "%%sql\n",
        "SELECT rating, CAST(discount_percentage AS int) AS discount_integer\n",
        "FROM sales\n",
        "ORDER BY discount_integer DESC\n",
        "limit 5;"
      ],
      "metadata": {
        "colab": {
          "base_uri": "https://localhost:8080/",
          "height": 181
        },
        "id": "N8uwadUTCyHM",
        "outputId": "d4b6c162-4c91-4976-f18c-32ac0b5d885d"
      },
      "execution_count": 23,
      "outputs": [
        {
          "output_type": "stream",
          "name": "stdout",
          "text": [
            " * sqlite://\n",
            "Done.\n"
          ]
        },
        {
          "output_type": "execute_result",
          "data": {
            "text/plain": [
              "[('4.3', 94), ('4.2', 91), ('4.2', 91), ('4.2', 91), ('4.2', 91)]"
            ],
            "text/html": [
              "<table>\n",
              "    <thead>\n",
              "        <tr>\n",
              "            <th>rating</th>\n",
              "            <th>discount_integer</th>\n",
              "        </tr>\n",
              "    </thead>\n",
              "    <tbody>\n",
              "        <tr>\n",
              "            <td>4.3</td>\n",
              "            <td>94</td>\n",
              "        </tr>\n",
              "        <tr>\n",
              "            <td>4.2</td>\n",
              "            <td>91</td>\n",
              "        </tr>\n",
              "        <tr>\n",
              "            <td>4.2</td>\n",
              "            <td>91</td>\n",
              "        </tr>\n",
              "        <tr>\n",
              "            <td>4.2</td>\n",
              "            <td>91</td>\n",
              "        </tr>\n",
              "        <tr>\n",
              "            <td>4.2</td>\n",
              "            <td>91</td>\n",
              "        </tr>\n",
              "    </tbody>\n",
              "</table>"
            ]
          },
          "metadata": {},
          "execution_count": 23
        }
      ]
    },
    {
      "cell_type": "code",
      "source": [
        "%%sql\n",
        "SELECT avg(rating), CAST(discount_percentage AS int) AS discount_integer\n",
        "FROM sales\n",
        "WHERE CAST(discount_percentage AS int) BETWEEN 75 AND 95;"
      ],
      "metadata": {
        "colab": {
          "base_uri": "https://localhost:8080/",
          "height": 97
        },
        "id": "mQSPH4vEFdsP",
        "outputId": "6388dc12-7716-4612-c374-727de6e92b9a"
      },
      "execution_count": 26,
      "outputs": [
        {
          "output_type": "stream",
          "name": "stdout",
          "text": [
            " * sqlite://\n",
            "Done.\n"
          ]
        },
        {
          "output_type": "execute_result",
          "data": {
            "text/plain": [
              "[(4.006703910614527, 90)]"
            ],
            "text/html": [
              "<table>\n",
              "    <thead>\n",
              "        <tr>\n",
              "            <th>avg(rating)</th>\n",
              "            <th>discount_integer</th>\n",
              "        </tr>\n",
              "    </thead>\n",
              "    <tbody>\n",
              "        <tr>\n",
              "            <td>4.006703910614527</td>\n",
              "            <td>90</td>\n",
              "        </tr>\n",
              "    </tbody>\n",
              "</table>"
            ]
          },
          "metadata": {},
          "execution_count": 26
        }
      ]
    }
  ]
}